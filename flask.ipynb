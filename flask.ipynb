{
 "cells": [
  {
   "cell_type": "markdown",
   "metadata": {
    "slideshow": {
     "slide_type": "slide"
    }
   },
   "source": [
    "# Let's use other people's code!"
   ]
  },
  {
   "cell_type": "markdown",
   "metadata": {
    "slideshow": {
     "slide_type": "slide"
    }
   },
   "source": [
    "# Installation\n",
    "\n",
    "## I'm using python / pip!\n",
    "* `python3 -m pip install --user flask requests`\n",
    "* `python3 -m pip freeze > requirements.txt`\n",
    "\n",
    "## I'm using conda!\n",
    "* `conda install flask requests`\n",
    "* `conda list --explicit > requirements.txt`"
   ]
  },
  {
   "cell_type": "markdown",
   "metadata": {
    "slideshow": {
     "slide_type": "slide"
    }
   },
   "source": [
    "## Read a module into your program"
   ]
  },
  {
   "cell_type": "code",
   "execution_count": 2,
   "metadata": {},
   "outputs": [
    {
     "name": "stdout",
     "output_type": "stream",
     "text": [
      "Help on function get in module requests.api:\n",
      "\n",
      "get(url, params=None, **kwargs)\n",
      "    Sends a GET request.\n",
      "    \n",
      "    :param url: URL for the new :class:`Request` object.\n",
      "    :param params: (optional) Dictionary, list of tuples or bytes to send\n",
      "        in the query string for the :class:`Request`.\n",
      "    :param \\*\\*kwargs: Optional arguments that ``request`` takes.\n",
      "    :return: :class:`Response <Response>` object\n",
      "    :rtype: requests.Response\n",
      "\n"
     ]
    }
   ],
   "source": [
    "import requests\n",
    "\n",
    "help(requests.get)"
   ]
  },
  {
   "cell_type": "code",
   "execution_count": 3,
   "metadata": {
    "slideshow": {
     "slide_type": "slide"
    }
   },
   "outputs": [
    {
     "name": "stdout",
     "output_type": "stream",
     "text": [
      "<Response [200]>\n"
     ]
    }
   ],
   "source": [
    "import requests\n",
    "response = requests.get('http://api.open-notify.org/astros.json')\n",
    "print(response)"
   ]
  },
  {
   "cell_type": "code",
   "execution_count": 6,
   "metadata": {},
   "outputs": [
    {
     "name": "stdout",
     "output_type": "stream",
     "text": [
      "{'message': 'success',\n",
      " 'number': 6,\n",
      " 'people': [{'craft': 'ISS', 'name': 'Alexey Ovchinin'},\n",
      "            {'craft': 'ISS', 'name': 'Nick Hague'},\n",
      "            {'craft': 'ISS', 'name': 'Christina Koch'},\n",
      "            {'craft': 'ISS', 'name': 'Alexander Skvortsov'},\n",
      "            {'craft': 'ISS', 'name': 'Luca Parmitano'},\n",
      "            {'craft': 'ISS', 'name': 'Andrew Morgan'}]}\n"
     ]
    }
   ],
   "source": [
    "from pprint import pprint\n",
    "pprint(response.json())"
   ]
  },
  {
   "cell_type": "markdown",
   "metadata": {
    "slideshow": {
     "slide_type": "slide"
    }
   },
   "source": [
    "# Create a helpful website to tell us if we are in space or not\n",
    "\n",
    "## It doesn't take much code to run a tiny website"
   ]
  },
  {
   "cell_type": "code",
   "execution_count": 10,
   "metadata": {},
   "outputs": [
    {
     "name": "stderr",
     "output_type": "stream",
     "text": [
      " * Running on http://localhost:9000/ (Press CTRL+C to quit)\n",
      "127.0.0.1 - - [02/Sep/2019 18:13:50] \"GET / HTTP/1.1\" 200 -\n",
      "127.0.0.1 - - [02/Sep/2019 18:13:50] \"GET /favicon.ico HTTP/1.1\" 404 -\n"
     ]
    }
   ],
   "source": [
    "from werkzeug.wrappers import Request, Response\n",
    "from flask import Flask\n",
    "\n",
    "app = Flask(\"spacepeople\")\n",
    "\n",
    "@app.route(\"/\")\n",
    "def hello():\n",
    "    return \"Hello World!\"\n",
    "\n",
    "if __name__ == '__main__':\n",
    "    from werkzeug.serving import run_simple\n",
    "    run_simple('localhost', 9000, app)"
   ]
  },
  {
   "cell_type": "markdown",
   "metadata": {
    "slideshow": {
     "slide_type": "slide"
    }
   },
   "source": [
    "## We want to make a dynamic website to better display the people in space.\n",
    "## We will want to run it on a server.\n",
    "\n",
    "## We need to know what libraries we are using.\n",
    "\n",
    "## Let's create a package!"
   ]
  },
  {
   "cell_type": "markdown",
   "metadata": {
    "slideshow": {
     "slide_type": "slide"
    }
   },
   "source": [
    "## Create a folder to work in\n",
    "\n",
    "#### In your shell\n",
    "\n",
    "```bash\n",
    "mkdir spacepeople\n",
    "```"
   ]
  },
  {
   "cell_type": "markdown",
   "metadata": {},
   "source": [
    "spacepeople/  \n"
   ]
  },
  {
   "cell_type": "markdown",
   "metadata": {
    "slideshow": {
     "slide_type": "slide"
    }
   },
   "source": [
    "## Create an isolated python environment\n",
    "\n",
    "```bash\n",
    "cd spacepeople\n",
    "python3 -m venv env --prompt spacepeople\n",
    "```\n",
    "\n",
    "* **python3**: &nbsp;&nbsp;Use python \n",
    "* **-m venv**: &nbsp;&nbsp;to run the virtual environment module\n",
    "* **env**: &nbsp;&nbsp;and create an environment in the `env/` directory\n",
    "* **--prompt spacepeople**: &nbsp;&nbsp; with the name `spacepeople`"
   ]
  },
  {
   "cell_type": "markdown",
   "metadata": {},
   "source": [
    "spacepeople/  \n",
    "&nbsp;&nbsp;&nbsp;&nbsp; env/  "
   ]
  },
  {
   "cell_type": "markdown",
   "metadata": {
    "slideshow": {
     "slide_type": "slide"
    }
   },
   "source": [
    "## Create an isolated python environment in Conda\n",
    "\n",
    "```bash\n",
    "conda create -n spacepeople python=3.7 flask\n",
    "```\n",
    "\n",
    "* **conda**: &nbsp;&nbsp;Use the conda environment manager \n",
    "* **create**: &nbsp;&nbsp;to create a new virtual environment\n",
    "* **-n spacepeople**: &nbsp;&nbsp;named spacepeople\n",
    "* **python=3.7 flask**: &nbsp;&nbsp; using 3.7 and flask"
   ]
  },
  {
   "cell_type": "markdown",
   "metadata": {
    "slideshow": {
     "slide_type": "slide"
    }
   },
   "source": [
    "## Enter your isolated python environment\n",
    "```bash\n",
    "source env/bin/activate\n",
    "which python\n",
    "```\n",
    "\n",
    "## We can leave the environment with\n",
    "```bash\n",
    "deactivate\n",
    "```"
   ]
  },
  {
   "cell_type": "markdown",
   "metadata": {
    "slideshow": {
     "slide_type": "slide"
    }
   },
   "source": [
    "## Install python packages into your environment\n",
    "\n",
    "```bash\n",
    "pip install requests\n",
    "pip list\n",
    "```\n"
   ]
  },
  {
   "cell_type": "markdown",
   "metadata": {},
   "source": [
    "## Record the packages you are using\n",
    "```bash\n",
    "pip freeze > requirements.txt\n",
    "```"
   ]
  },
  {
   "cell_type": "markdown",
   "metadata": {},
   "source": [
    "spacepeople/  \n",
    "&nbsp;&nbsp;&nbsp;&nbsp; env/  \n",
    "&nbsp;&nbsp;&nbsp;&nbsp; requirements.txt  "
   ]
  },
  {
   "cell_type": "markdown",
   "metadata": {
    "slideshow": {
     "slide_type": "slide"
    }
   },
   "source": [
    "## Create a package!\n",
    "\n",
    "```bash\n",
    "mkdir app\n",
    "touch __init__.py\n",
    "```"
   ]
  },
  {
   "cell_type": "markdown",
   "metadata": {},
   "source": [
    "spacepeople/  \n",
    "&nbsp;&nbsp;&nbsp;&nbsp; env/  \n",
    "&nbsp;&nbsp;&nbsp;&nbsp; requirements.txt  \n",
    "&nbsp;&nbsp;&nbsp;&nbsp; app/  \n",
    "&nbsp;&nbsp;&nbsp;&nbsp;&nbsp;&nbsp;&nbsp;&nbsp; \\_\\_init\\_\\_.py  "
   ]
  },
  {
   "cell_type": "markdown",
   "metadata": {},
   "source": [
    "## Any directory with an `__init__.py` is a package, and can be imported."
   ]
  },
  {
   "cell_type": "code",
   "execution_count": null,
   "metadata": {
    "slideshow": {
     "slide_type": "slide"
    }
   },
   "outputs": [],
   "source": [
    "# app/__init__.py\n",
    "from flask import Flask\n",
    "\n",
    "# __name__ is always the name of our module\n",
    "app = Flask(__name__)  \n",
    "\n",
    "from app import routes"
   ]
  },
  {
   "cell_type": "code",
   "execution_count": null,
   "metadata": {},
   "outputs": [],
   "source": [
    "# app/routes.py\n",
    "from app import app\n",
    "\n",
    "@app.route('/')\n",
    "def index():\n",
    "    return \"Hello Noisebridge!\""
   ]
  },
  {
   "cell_type": "markdown",
   "metadata": {
    "slideshow": {
     "slide_type": "-"
    }
   },
   "source": [
    "spacepeople/  \n",
    "&nbsp;&nbsp;&nbsp;&nbsp; env/  \n",
    "&nbsp;&nbsp;&nbsp;&nbsp; requirements.txt  \n",
    "&nbsp;&nbsp;&nbsp;&nbsp; app/  \n",
    "&nbsp;&nbsp;&nbsp;&nbsp;&nbsp;&nbsp;&nbsp;&nbsp; \\_\\_init\\_\\_.py  \n",
    "&nbsp;&nbsp;&nbsp;&nbsp;&nbsp;&nbsp;&nbsp;&nbsp; routes.py  \n"
   ]
  },
  {
   "cell_type": "markdown",
   "metadata": {
    "slideshow": {
     "slide_type": "slide"
    }
   },
   "source": [
    "# Let's run it!"
   ]
  },
  {
   "cell_type": "code",
   "execution_count": null,
   "metadata": {
    "slideshow": {
     "slide_type": "-"
    }
   },
   "outputs": [],
   "source": [
    "# spacepeople.py\n",
    "from app import app"
   ]
  },
  {
   "cell_type": "markdown",
   "metadata": {},
   "source": [
    "spacepeople/  \n",
    "&nbsp;&nbsp;&nbsp;&nbsp; env/  \n",
    "&nbsp;&nbsp;&nbsp;&nbsp; requirements.txt  \n",
    "&nbsp;&nbsp;&nbsp;&nbsp; spacepeople.py  \n",
    "&nbsp;&nbsp;&nbsp;&nbsp; app/  \n",
    "&nbsp;&nbsp;&nbsp;&nbsp;&nbsp;&nbsp;&nbsp;&nbsp; \\_\\_init\\_\\_.py  \n",
    "&nbsp;&nbsp;&nbsp;&nbsp;&nbsp;&nbsp;&nbsp;&nbsp; routes.py  "
   ]
  },
  {
   "cell_type": "markdown",
   "metadata": {
    "slideshow": {
     "slide_type": "slide"
    }
   },
   "source": [
    "# In your MacOS / Linux console\n",
    "```bash\n",
    "export FLASK_APP=spacepeople.py\n",
    "flask run\n",
    "```\n",
    "\n",
    "# In your Windows console\n",
    "```\n",
    "set FLASK_APP=spacepeople.py\n",
    "flask run\n",
    "```"
   ]
  },
  {
   "cell_type": "markdown",
   "metadata": {
    "slideshow": {
     "slide_type": "slide"
    }
   },
   "source": [
    "### Create another route `/number` that returns the number of people in space."
   ]
  },
  {
   "cell_type": "markdown",
   "metadata": {
    "slideshow": {
     "slide_type": "slide"
    }
   },
   "source": [
    "## Routes can have variables "
   ]
  },
  {
   "cell_type": "code",
   "execution_count": null,
   "metadata": {},
   "outputs": [],
   "source": [
    "# routes.py\n",
    "\n",
    "@app.route('/spacepeople/<name>')\n",
    "def person(name):\n",
    "    return f'{name} might be in space'"
   ]
  },
  {
   "cell_type": "markdown",
   "metadata": {
    "slideshow": {
     "slide_type": "slide"
    }
   },
   "source": [
    "### Update this route to return different text if the person is in space"
   ]
  },
  {
   "cell_type": "markdown",
   "metadata": {
    "slideshow": {
     "slide_type": "slide"
    }
   },
   "source": [
    "# Web services, but make it fashion"
   ]
  },
  {
   "cell_type": "code",
   "execution_count": null,
   "metadata": {
    "slideshow": {
     "slide_type": "-"
    }
   },
   "outputs": [],
   "source": [
    "@app.route('/')\n",
    "@app.route('/spacepeople')\n",
    "def index():\n",
    "    return '''\n",
    "<html>\n",
    "    <head>\n",
    "        <title>SpacePeople service</title>\n",
    "    </head>\n",
    "    <body>\n",
    "        <h1>Some people are in space</h1>\n",
    "    </body>\n",
    "</html>\n",
    "'''"
   ]
  },
  {
   "cell_type": "markdown",
   "metadata": {
    "slideshow": {
     "slide_type": "slide"
    }
   },
   "source": [
    "spacepeople/  \n",
    "&nbsp;&nbsp;&nbsp;&nbsp;\n",
    "requirements.txt  \n",
    "&nbsp;&nbsp;&nbsp;&nbsp; \n",
    "venv/  \n",
    "&nbsp;&nbsp;&nbsp;&nbsp; \n",
    "app/  \n",
    "&nbsp;&nbsp;&nbsp;&nbsp;&nbsp;&nbsp;&nbsp;&nbsp; \n",
    "\\_\\_init\\_\\_.py  \n",
    "&nbsp;&nbsp;&nbsp;&nbsp;&nbsp;&nbsp;&nbsp;&nbsp; \n",
    "routes.py  \n",
    "&nbsp;&nbsp;&nbsp;&nbsp;&nbsp;&nbsp;&nbsp;&nbsp;\n",
    "spacepeople.py  \n",
    "&nbsp;&nbsp;&nbsp;&nbsp;&nbsp;&nbsp;&nbsp;&nbsp;\n",
    "templates/\n",
    "&nbsp;&nbsp;&nbsp;&nbsp;&nbsp;&nbsp;&nbsp;&nbsp;\n",
    "<--- Let's add some templates!  \n",
    "&nbsp;&nbsp;&nbsp;&nbsp;&nbsp;&nbsp;&nbsp;&nbsp;&nbsp;&nbsp;&nbsp;&nbsp;\n",
    "index.html  \n",
    "&nbsp;&nbsp;&nbsp;&nbsp;&nbsp;&nbsp;&nbsp;&nbsp;&nbsp;&nbsp;&nbsp;&nbsp;\n",
    "person.html  \n"
   ]
  },
  {
   "cell_type": "markdown",
   "metadata": {
    "slideshow": {
     "slide_type": "slide"
    }
   },
   "source": [
    "<!--index.html-->\n",
    "\n",
    "<html>\n",
    "    <head>\n",
    "        <title>SpacePeople service</title>\n",
    "    </head>\n",
    "    <body>\n",
    "        <h1>Some people are in space</h1>\n",
    "    </body>\n",
    "</html>"
   ]
  },
  {
   "cell_type": "code",
   "execution_count": null,
   "metadata": {
    "slideshow": {
     "slide_type": "slide"
    }
   },
   "outputs": [],
   "source": [
    "from flask import render_template\n",
    "\n",
    "@app.route('/')\n",
    "@app.route('/spacepeople')\n",
    "def index():\n",
    "    return render_template('index.html')"
   ]
  },
  {
   "cell_type": "markdown",
   "metadata": {
    "slideshow": {
     "slide_type": "slide"
    }
   },
   "source": [
    "<!--index.html-->\n",
    "{% substitution %}\n",
    "\n",
    "<html>\n",
    "    <head>\n",
    "        <title>SpacePeople service</title>\n",
    "    </head>\n",
    "    <body>\n",
    "        <h1>{{astros.number}} people are in space</h1>\n",
    "    </body>\n",
    "</html>"
   ]
  },
  {
   "cell_type": "code",
   "execution_count": null,
   "metadata": {
    "slideshow": {
     "slide_type": "slide"
    }
   },
   "outputs": [],
   "source": [
    "from flask import render_template\n",
    "\n",
    "@app.route('/')\n",
    "@app.route('/spacepeople')\n",
    "def index():\n",
    "    return render_template('index.html', astros=astros)"
   ]
  },
  {
   "cell_type": "markdown",
   "metadata": {
    "slideshow": {
     "slide_type": "slide"
    }
   },
   "source": [
    "<!--index.html-->\n",
    "{% if statement %}\n",
    "\n",
    "<html>\n",
    "    <head>\n",
    "        <title>SpacePeople service</title>\n",
    "    </head>\n",
    "    <body>\n",
    "        {% if astros.number != 0 %}\n",
    "        <h1>{{astros.number}} people are in space</h1>\n",
    "        {% else %}\n",
    "        <h1>No people are in space</h1>\n",
    "        {%endif%}\n",
    "    </body>\n",
    "</html>"
   ]
  },
  {
   "cell_type": "markdown",
   "metadata": {
    "slideshow": {
     "slide_type": "slide"
    }
   },
   "source": [
    "# Create a template for the person url\n",
    "### It should include\n",
    "* Their name in the title\n",
    "* Text that depends on if the person is in space or not"
   ]
  },
  {
   "cell_type": "markdown",
   "metadata": {
    "slideshow": {
     "slide_type": "slide"
    }
   },
   "source": [
    "### What's a framework?\n",
    "Framework suggests structure.\n",
    "People often divide web applications into Model View Controller.\n",
    "\n",
    "Frameworks let you perform this seperation, and describe each part in the same environment."
   ]
  },
  {
   "cell_type": "markdown",
   "metadata": {
    "slideshow": {
     "slide_type": "slide"
    }
   },
   "source": [
    "### Model\n",
    "- Describes the data\n",
    "- Describes the constraints\n",
    "- Describes the means of access"
   ]
  },
  {
   "cell_type": "markdown",
   "metadata": {
    "slideshow": {
     "slide_type": "slide"
    }
   },
   "source": [
    "### View\n",
    "- Presents fixed data.\n",
    "- Has some logic, decides what to display and hide."
   ]
  },
  {
   "cell_type": "markdown",
   "metadata": {
    "slideshow": {
     "slide_type": "slide"
    }
   },
   "source": [
    "### Controller\n",
    "- Provides access to views\n",
    "- Selecting and modifying data\n",
    "- \"Business logic\"\n",
    "- \"Well it's not model or view. I guess it's part of the controller.\""
   ]
  },
  {
   "cell_type": "markdown",
   "metadata": {
    "slideshow": {
     "slide_type": "slide"
    }
   },
   "source": [
    "## Convention over Configuration\n",
    "\n",
    "* Frameworks also tend to make lots of choices for you: \n",
    "    * project structures\n",
    "    * testing paradeigms \n",
    "    * common names.\n",
    "* Flask is smaller, and so makes fewer choices for you.\n",
    "    * remember to put your templates in the templates/ directory though."
   ]
  },
  {
   "cell_type": "markdown",
   "metadata": {
    "slideshow": {
     "slide_type": "slide"
    }
   },
   "source": [
    "## Templates\n",
    "\n",
    "Flask uses Jinja2 templates.  \n",
    "\n",
    "Fill them in with `flask.render_template(filename, **parameters)`\n",
    "\n",
    "- Text passes through.\n",
    "- `{# this is a comment #}`\n",
    "- `{{ var }}` is replaced with `var='value'`\n",
    "- `{{ var.key }}` is replaced with `var={'key': 'value'}`."
   ]
  },
  {
   "cell_type": "markdown",
   "metadata": {
    "slideshow": {
     "slide_type": "slide"
    }
   },
   "source": [
    "## Control flow in Jinja2 templates\n",
    "\n",
    "`{% if %}`\n",
    "\n",
    "`{% else %}`\n",
    "  \n",
    "`{% endif %}`\n",
    "  \n",
    "------------------------  \n",
    "`{% for item in list %}`\n",
    "\n",
    "`{% endfor %}`"
   ]
  },
  {
   "cell_type": "markdown",
   "metadata": {
    "slideshow": {
     "slide_type": "slide"
    }
   },
   "source": [
    "## Template Inheritance\n",
    "\n",
    "base.html\n",
    "```\n",
    "<html>\n",
    "{% block content %}\n",
    "{% endblock %}\n",
    "</html>\n",
    "```\n",
    "\n",
    "bikes.html\n",
    "```\n",
    "{% extends \"base.html\" %}\n",
    "\n",
    "{% block content %}\n",
    "Bikes!\n",
    "{% endblock %}\n",
    "```"
   ]
  },
  {
   "cell_type": "markdown",
   "metadata": {
    "slideshow": {
     "slide_type": "slide"
    }
   },
   "source": [
    "### What does micro mean?\n",
    "- templating system (stripped down view)\n",
    "- url, request and cookie support (stripped down controller)\n",
    "- easily extensible\n",
    "\n",
    "there is no\n",
    "- sanctioned way to interact with a database\n",
    "- native caching support\n",
    "- authentication\n",
    "\n",
    "This really is minimal, but covers a lot, and won't lock you into solutions."
   ]
  },
  {
   "cell_type": "markdown",
   "metadata": {
    "slideshow": {
     "slide_type": "slide"
    }
   },
   "source": [
    "### What is the right tool?\n",
    "- Do you want to display a thing?  Use a static site.  Pelican is a good Python static site generator.  Hugo is probably the most popular static site generator overall.\n",
    "- Do you want rich display of existing data?  Try flask.  MoinMoin is a wiki that uses flask.  Airflow manages data workflows, and it does it's display with flask.\n",
    "- Do you already know you are building a complex application, like a shop or social media site?  Try Django\n",
    "- Are you a do it yourself kind of person?  Try flask.  Pinterest started out in Django because it's a complex social media site, then moved to Flask because they were successful enough that it became worthwhile to start cusomizing everything."
   ]
  },
  {
   "cell_type": "markdown",
   "metadata": {
    "slideshow": {
     "slide_type": "slide"
    }
   },
   "source": [
    "## I recommend Miguel Grinnberg's Flask Mega-Tutorial"
   ]
  }
 ],
 "metadata": {
  "celltoolbar": "Slideshow",
  "kernelspec": {
   "display_name": "Python 3",
   "language": "python",
   "name": "python3"
  },
  "language_info": {
   "codemirror_mode": {
    "name": "ipython",
    "version": 3
   },
   "file_extension": ".py",
   "mimetype": "text/x-python",
   "name": "python",
   "nbconvert_exporter": "python",
   "pygments_lexer": "ipython3",
   "version": "3.7.4"
  }
 },
 "nbformat": 4,
 "nbformat_minor": 2
}
